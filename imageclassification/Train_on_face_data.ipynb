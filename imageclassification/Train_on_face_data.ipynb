{
 "cells": [
  {
   "cell_type": "code",
   "execution_count": 2,
   "metadata": {},
   "outputs": [
    {
     "data": {
      "text/plain": [
       "0.35187804698944003"
      ]
     },
     "execution_count": 2,
     "metadata": {},
     "output_type": "execute_result"
    }
   ],
   "source": [
    "import pandas\n",
    "df = pandas.read_csv(\"/home/amine/ml/imageclassification/results/reps.csv\", header=None)\n",
    "df.max().max()"
   ]
  },
  {
   "cell_type": "code",
   "execution_count": 3,
   "metadata": {},
   "outputs": [
    {
     "data": {
      "text/plain": [
       "-0.32577934861183"
      ]
     },
     "execution_count": 3,
     "metadata": {},
     "output_type": "execute_result"
    }
   ],
   "source": [
    "df.min().min()"
   ]
  },
  {
   "cell_type": "code",
   "execution_count": 4,
   "metadata": {},
   "outputs": [],
   "source": [
    "lf = pandas.read_csv(\"/home/amine/ml/imageclassification/results/labels.csv\", header=None)"
   ]
  },
  {
   "cell_type": "code",
   "execution_count": 16,
   "metadata": {},
   "outputs": [],
   "source": [
    "lf_to_list = lf[0].tolist()"
   ]
  },
  {
   "cell_type": "code",
   "execution_count": 19,
   "metadata": {},
   "outputs": [
    {
     "data": {
      "text/plain": [
       "309"
      ]
     },
     "execution_count": 19,
     "metadata": {},
     "output_type": "execute_result"
    }
   ],
   "source": [
    "len(lf_to_list)"
   ]
  },
  {
   "cell_type": "code",
   "execution_count": 14,
   "metadata": {},
   "outputs": [
    {
     "data": {
      "text/plain": [
       "(309, 128)"
      ]
     },
     "execution_count": 14,
     "metadata": {},
     "output_type": "execute_result"
    }
   ],
   "source": [
    "df.values.shape"
   ]
  },
  {
   "cell_type": "code",
   "execution_count": 21,
   "metadata": {},
   "outputs": [],
   "source": [
    "from sklearn import svm\n",
    "clf = svm.LinearSVC()"
   ]
  },
  {
   "cell_type": "code",
   "execution_count": 22,
   "metadata": {},
   "outputs": [
    {
     "data": {
      "text/plain": [
       "LinearSVC(C=1.0, class_weight=None, dual=True, fit_intercept=True,\n",
       "     intercept_scaling=1, loss='squared_hinge', max_iter=1000,\n",
       "     multi_class='ovr', penalty='l2', random_state=None, tol=0.0001,\n",
       "     verbose=0)"
      ]
     },
     "execution_count": 22,
     "metadata": {},
     "output_type": "execute_result"
    }
   ],
   "source": [
    "clf.fit(df.values, lf_to_list)"
   ]
  },
  {
   "cell_type": "code",
   "execution_count": 23,
   "metadata": {},
   "outputs": [
    {
     "data": {
      "text/plain": [
       "array([-0.13733886,  0.13196303,  0.17298546, -0.10090922, -0.0029038 ,\n",
       "       -0.03508366,  0.03171621,  0.09742395,  0.06164029,  0.00721913,\n",
       "       -0.02892369, -0.11251245, -0.01615132, -0.041042  ,  0.12342308,\n",
       "       -0.05516743, -0.03834833, -0.00659319, -0.07650206, -0.13798285,\n",
       "        0.04573315,  0.01400511, -0.07628106, -0.1729288 ,  0.02653222,\n",
       "       -0.00232802, -0.12283602, -0.02848449,  0.07677529, -0.08268134,\n",
       "        0.0997569 ,  0.00231722,  0.0674179 ,  0.01125446,  0.09744362,\n",
       "       -0.0036885 ,  0.10039616,  0.07949669,  0.04384483, -0.0162326 ,\n",
       "        0.12604342, -0.02796296, -0.01477567, -0.01087528,  0.03956628,\n",
       "        0.19384181, -0.01570115, -0.07909314, -0.16666062, -0.24771391,\n",
       "       -0.19492963,  0.06804957,  0.00560525, -0.01810636, -0.10883339,\n",
       "        0.05194045, -0.00513565, -0.12517491, -0.1235968 , -0.01574715,\n",
       "        0.00443057, -0.04005735, -0.1365246 ,  0.06570177,  0.05790834,\n",
       "        0.03895814,  0.03304189,  0.09937611,  0.09577414, -0.01790868,\n",
       "        0.09533306, -0.0892217 , -0.04014952, -0.13819626,  0.09166402,\n",
       "        0.08190083, -0.18548959,  0.06241927,  0.00209813, -0.05651223,\n",
       "       -0.18353187,  0.10594822,  0.0188784 ,  0.13657865, -0.02149566,\n",
       "        0.07368793,  0.09981759,  0.02255537, -0.0899702 ,  0.00236987,\n",
       "        0.03119619, -0.0374548 ,  0.01581157, -0.04801084, -0.08751027,\n",
       "       -0.04273025, -0.00878888, -0.02116996, -0.05793787,  0.03057346,\n",
       "       -0.05472592, -0.03938335, -0.0277425 ,  0.01411878,  0.0251681 ,\n",
       "       -0.0185318 ,  0.02810591,  0.12077326,  0.05115611, -0.06807092,\n",
       "       -0.04695994, -0.13224609, -0.22055745, -0.04889714,  0.07305279,\n",
       "       -0.02510418, -0.20564879, -0.17235792,  0.05035163, -0.03095167,\n",
       "        0.06585819,  0.09235321, -0.10712604,  0.13039976,  0.13592899,\n",
       "       -0.06306243,  0.00800862, -0.01507286])"
      ]
     },
     "execution_count": 23,
     "metadata": {},
     "output_type": "execute_result"
    }
   ],
   "source": [
    "df.values[0]"
   ]
  },
  {
   "cell_type": "code",
   "execution_count": 27,
   "metadata": {},
   "outputs": [
    {
     "data": {
      "text/plain": [
       "array([2])"
      ]
     },
     "execution_count": 27,
     "metadata": {},
     "output_type": "execute_result"
    }
   ],
   "source": [
    "clf.predict([df.values[200]])"
   ]
  },
  {
   "cell_type": "code",
   "execution_count": 29,
   "metadata": {},
   "outputs": [
    {
     "ename": "AttributeError",
     "evalue": "'LinearSVC' object has no attribute 'support_vectors_'",
     "output_type": "error",
     "traceback": [
      "\u001b[0;31m---------------------------------------------------------------------------\u001b[0m",
      "\u001b[0;31mAttributeError\u001b[0m                            Traceback (most recent call last)",
      "\u001b[0;32m<ipython-input-29-63fc1dddf469>\u001b[0m in \u001b[0;36m<module>\u001b[0;34m\u001b[0m\n\u001b[0;32m----> 1\u001b[0;31m \u001b[0mclf\u001b[0m\u001b[0;34m.\u001b[0m\u001b[0msupport_vectors_\u001b[0m\u001b[0;34m\u001b[0m\u001b[0m\n\u001b[0m",
      "\u001b[0;31mAttributeError\u001b[0m: 'LinearSVC' object has no attribute 'support_vectors_'"
     ]
    }
   ],
   "source": [
    "clf.support_vectors_"
   ]
  },
  {
   "cell_type": "code",
   "execution_count": null,
   "metadata": {},
   "outputs": [],
   "source": []
  }
 ],
 "metadata": {
  "kernelspec": {
   "display_name": "Python 3",
   "language": "python",
   "name": "python3"
  },
  "language_info": {
   "codemirror_mode": {
    "name": "ipython",
    "version": 3
   },
   "file_extension": ".py",
   "mimetype": "text/x-python",
   "name": "python",
   "nbconvert_exporter": "python",
   "pygments_lexer": "ipython3",
   "version": "3.6.4"
  }
 },
 "nbformat": 4,
 "nbformat_minor": 2
}
