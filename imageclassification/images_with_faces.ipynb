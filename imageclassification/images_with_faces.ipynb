{
 "cells": [
  {
   "cell_type": "code",
   "execution_count": 1,
   "metadata": {},
   "outputs": [],
   "source": [
    "import sys\n",
    "import numpy as np\n",
    "import dlib\n",
    "from skimage import io\n",
    "import matplotlib.pyplot as plt\n",
    "import matplotlib.patches as patches\n",
    "import openface\n",
    "import cv2\n",
    "import os"
   ]
  },
  {
   "cell_type": "code",
   "execution_count": 7,
   "metadata": {},
   "outputs": [],
   "source": [
    "def shape_to_np(shape, dtype=\"int\"):\n",
    "    # initialize the list of (x, y)-coordinates\n",
    "    coords = np.zeros((68, 2), dtype=dtype)\n",
    " \n",
    "    # loop over the 68 facial landmarks and convert them\n",
    "    # to a 2-tuple of (x, y)-coordinates\n",
    "    for i in range(0, 68):\n",
    "        coords[i] = (shape.part(i).x, shape.part(i).y)\n",
    " \n",
    "    # return the list of (x, y)-coordinates\n",
    "    return coords"
   ]
  },
  {
   "cell_type": "code",
   "execution_count": 8,
   "metadata": {},
   "outputs": [],
   "source": [
    "def get_aligned_face_path(path, file_name):\n",
    "    file_name_parts = file_name.split('.')\n",
    "    aligned_face_name = f\"{file_name_parts[0]}_aligned.{file_name_parts[1]}\"\n",
    "    return f\"{path}{aligned_face_name}\""
   ]
  },
  {
   "cell_type": "code",
   "execution_count": 9,
   "metadata": {},
   "outputs": [
    {
     "name": "stdout",
     "output_type": "stream",
     "text": [
      "Number of files is : 7733\n"
     ]
    }
   ],
   "source": [
    "source_directory = \"/home/amine/ml/imageclassification/image_sets/\"\n",
    "all_files_names = os.listdir(source_directory)\n",
    "print (f\"Number of files is : {len(all_files_names)}\")\n",
    "    \n",
    "destination_dir = \"/home/amine/ml/imageclassification/treated/\""
   ]
  },
  {
   "cell_type": "code",
   "execution_count": 10,
   "metadata": {},
   "outputs": [],
   "source": [
    "# Create a HOG face detector using the built-in dlib class\n",
    "predictor_model = \"shape_predictor_68_face_landmarks.dat\"\n",
    "\n",
    "face_detector = dlib.get_frontal_face_detector()\n",
    "face_pose_predictor = dlib.shape_predictor(predictor_model)\n",
    "face_aligner = openface.AlignDlib(predictor_model)\n",
    "\n",
    "for j, file_name in enumerate(all_files_names):\n",
    "    full_file_name = f\"{source_directory}{file_name}\"\n",
    "    image = io.imread(full_file_name)\n",
    "    try:\n",
    "        detected_faces = face_detector(image, 1)\n",
    "    except Exception:\n",
    "        continue\n",
    "\n",
    "    if len(detected_faces) != 0:\n",
    "        for i, face_rect in enumerate(detected_faces):\n",
    "            alignedFace = face_aligner.align(96, image, face_rect, landmarkIndices=openface.AlignDlib.OUTER_EYES_AND_NOSE)\n",
    "            aligned_face_path = f\"{destination_dir}{j}_{i}.png\"\n",
    "            cv2.imwrite(aligned_face_path, alignedFace)"
   ]
  }
 ],
 "metadata": {
  "kernelspec": {
   "display_name": "Python 3",
   "language": "python",
   "name": "python3"
  },
  "language_info": {
   "codemirror_mode": {
    "name": "ipython",
    "version": 3
   },
   "file_extension": ".py",
   "mimetype": "text/x-python",
   "name": "python",
   "nbconvert_exporter": "python",
   "pygments_lexer": "ipython3",
   "version": "3.6.4"
  }
 },
 "nbformat": 4,
 "nbformat_minor": 2
}
